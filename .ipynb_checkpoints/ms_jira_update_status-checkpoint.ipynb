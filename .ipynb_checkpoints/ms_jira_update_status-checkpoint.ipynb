{
 "cells": [
  {
   "cell_type": "code",
   "execution_count": null,
   "id": "4477d374",
   "metadata": {},
   "outputs": [],
   "source": [
    "## https://jira.readthedocs.io/examples.html\n",
    "    \n",
    "from jira import JIRA, exceptions\n",
    "import logging\n",
    "import sys, os\n",
    "import json\n",
    "import subprocess\n",
    "from http.server import BaseHTTPRequestHandler, HTTPServer\n",
    "import time\n",
    "from urllib.parse import urlparse, parse_qs"
   ]
  },
  {
   "cell_type": "code",
   "execution_count": null,
   "id": "4f21d728",
   "metadata": {},
   "outputs": [],
   "source": [
    "def get_logger(logger_name):    \n",
    "    log = logging.getLogger(logger_name)\n",
    "    log.setLevel(logging.DEBUG)\n",
    "    handler = logging.StreamHandler(sys.stderr)\n",
    "    formatter = logging.Formatter('%(name)s - %(levelname)s - %(message)s')\n",
    "    handler.setFormatter(formatter)\n",
    "    log.handlers = [handler]\n",
    "    return log"
   ]
  },
  {
   "cell_type": "code",
   "execution_count": null,
   "id": "0d163613",
   "metadata": {},
   "outputs": [],
   "source": [
    "def init_jira_environment(log, jira_url, user_name, user_psw):\n",
    "    jira_options = {'server': jira_url}\n",
    "    log.info(f\"server: {jira_options['server']}\")\n",
    "    jira_handle = JIRA(options=jira_options, basic_auth=(user_name, user_psw))\n",
    "    return jira_handle\n",
    "\n",
    "def get_ms_name():\n",
    "    return 'ms_jira_update_status'\n",
    "\n",
    "def get_success_response(status):\n",
    "    return {'ms_name': get_ms_name(), 'request_status': 'SUCCESS', 'payload': {'status': status}}\n",
    "\n",
    "def get_failure_response(error):\n",
    "    return {'ms_name': get_ms_name(), 'request_status': 'FAILURE', 'error': error}"
   ]
  },
  {
   "cell_type": "code",
   "execution_count": null,
   "id": "6c4d1f56",
   "metadata": {},
   "outputs": [],
   "source": [
    "class JIRA_Issue_Update_Status(BaseHTTPRequestHandler):\n",
    "    global jira_handle\n",
    "    def do_PUT(self):\n",
    "        issue_id = self.path.split('/')[1]\n",
    "        data_string = str(self.rfile.read(int(self.headers['Content-Length'])), 'utf-8')\n",
    "        transition = json.loads(data_string)['status']\n",
    "        logger.info(f'transitioning a jira issue for {issue_id} to {transition}')\n",
    "        \n",
    "        try:\n",
    "            jira_issue = jira_handle.transition_issue(issue_id, transition=transition)\n",
    "            response = get_success_response(transition)\n",
    "        except exceptions.JIRAError as e:\n",
    "            logger.info(e.status_code)\n",
    "            logger.info(e.text)\n",
    "            response = get_failure_response(e.status_code)\n",
    "                    \n",
    "        self.send_response(200)\n",
    "        self.send_header(\"Content-type\", \"application/json\")\n",
    "        self.end_headers()\n",
    "        self.wfile.write(bytes(json.dumps(response),'utf-8'))"
   ]
  },
  {
   "cell_type": "code",
   "execution_count": null,
   "id": "f45164f6",
   "metadata": {},
   "outputs": [],
   "source": [
    "def start_webserver(server_name, server_port, log):\n",
    "    webserver = HTTPServer((server_name, server_port), JIRA_Issue_Update_Status)\n",
    "    log.info(\"%s started http://%s:%s\" % (get_ms_name(), server_name, server_port))\n",
    "\n",
    "    try:\n",
    "        webserver.serve_forever()\n",
    "    except KeyboardInterrupt:\n",
    "        print(\"Interrupted by keyboard ...\")\n",
    "\n",
    "def set_up_jira(logger, jira_url, user_name, user_psw):\n",
    "    return init_jira_environment(logger, jira_url, user_name, user_psw)"
   ]
  },
  {
   "cell_type": "code",
   "execution_count": null,
   "id": "e5a1e75f",
   "metadata": {},
   "outputs": [],
   "source": [
    "def ms_init(jira_url, user_name, user_psw):\n",
    "    global logger, jira_handle\n",
    "    logger = get_logger(get_ms_name())\n",
    "    jira_handle = set_up_jira(logger, jira_url, user_name, user_psw)\n",
    "    print (jira_handle)\n",
    "    \n",
    "if __name__ == \"__main__\":\n",
    "    if len(sys.argv) >= 2 and sys.argv[1].isnumeric():\n",
    "        server_port = int(sys.argv[1])\n",
    "    else:\n",
    "        server_port = 8484\n",
    "    \n",
    "    jira_handle = None\n",
    "    logger = None\n",
    "    ms_init(os.environ['jira_url'], os.environ['jira_user_name'], os.environ['jira_user_psw'])\n",
    "    start_webserver('localhost', server_port, logger)\n",
    "    webserver.close()\n",
    "    print(\"Server stopped.\")"
   ]
  },
  {
   "cell_type": "code",
   "execution_count": null,
   "id": "b6926d39",
   "metadata": {},
   "outputs": [],
   "source": [
    "# JIRA experiment\n",
    "logger = get_logger('TESTING')\n",
    "jira_url = os.environ['jira_url']\n",
    "jira_user_name = os.environ['jira_user_name']\n",
    "jira_user_psw = os.environ['jira_user_psw']\n",
    "print(jira_url, jira_user_name, jira_user_psw)\n",
    "jira_handle = set_up_jira(logger, jira_url, jira_user_name, jira_user_psw)\n"
   ]
  },
  {
   "cell_type": "code",
   "execution_count": null,
   "id": "3498870c",
   "metadata": {},
   "outputs": [],
   "source": [
    "issue_key = 'JRM-709'\n",
    "jira_issue = jira_handle.issue(issue_key)\n",
    "print('status:', jira_issue.fields.status.name)\n"
   ]
  },
  {
   "cell_type": "code",
   "execution_count": null,
   "id": "6b8dec63",
   "metadata": {},
   "outputs": [],
   "source": [
    "jira_issue.update(notify=False, description=\"Quiet summary update.\")"
   ]
  },
  {
   "cell_type": "code",
   "execution_count": null,
   "id": "5fa0749f",
   "metadata": {},
   "outputs": [],
   "source": [
    "jira_issue.fields.labels = []\n",
    "jira_issue.fields.labels.append(\"c:/dev/python/bdd/features/google_search.feature\")\n",
    "jira_issue.fields.labels.append(\"c:/dev/python/bdd/features/verify_logging_retention_period.feature\")\n",
    "jira_issue.update(fields={\"labels\": jira_issue.fields.labels})"
   ]
  },
  {
   "cell_type": "code",
   "execution_count": null,
   "id": "5ad6d0da",
   "metadata": {},
   "outputs": [],
   "source": [
    "dir(jira_handle)"
   ]
  },
  {
   "cell_type": "code",
   "execution_count": null,
   "id": "684e7e50",
   "metadata": {},
   "outputs": [],
   "source": [
    "jira_handle.transition_issue(issue_key, transition='Done')"
   ]
  },
  {
   "cell_type": "code",
   "execution_count": null,
   "id": "094b8671",
   "metadata": {},
   "outputs": [],
   "source": []
  }
 ],
 "metadata": {
  "kernelspec": {
   "display_name": "Python 3 (ipykernel)",
   "language": "python",
   "name": "python3"
  },
  "language_info": {
   "codemirror_mode": {
    "name": "ipython",
    "version": 3
   },
   "file_extension": ".py",
   "mimetype": "text/x-python",
   "name": "python",
   "nbconvert_exporter": "python",
   "pygments_lexer": "ipython3",
   "version": "3.10.5"
  }
 },
 "nbformat": 4,
 "nbformat_minor": 5
}
