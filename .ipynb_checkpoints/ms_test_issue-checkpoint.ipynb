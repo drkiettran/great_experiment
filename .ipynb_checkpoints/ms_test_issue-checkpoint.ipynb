{
 "cells": [
  {
   "cell_type": "code",
   "execution_count": null,
   "id": "7d888194",
   "metadata": {},
   "outputs": [],
   "source": [
    "import logging\n",
    "import sys\n",
    "import json\n",
    "import subprocess\n",
    "from http.server import BaseHTTPRequestHandler, HTTPServer\n",
    "import time\n",
    "from urllib.parse import urlparse, parse_qs\n",
    "#from urlparse import urlparse, parse_qs"
   ]
  },
  {
   "cell_type": "code",
   "execution_count": null,
   "id": "7e14ba46",
   "metadata": {},
   "outputs": [],
   "source": [
    "def get_logger(logger_name):    \n",
    "    log = logging.getLogger(logger_name)\n",
    "    log.setLevel(logging.DEBUG)\n",
    "    handler = logging.StreamHandler(sys.stderr)\n",
    "    formatter = logging.Formatter('%(name)s - %(levelname)s - %(message)s')\n",
    "    handler.setFormatter(formatter)\n",
    "    log.handlers = [handler]\n",
    "    return log"
   ]
  },
  {
   "cell_type": "code",
   "execution_count": null,
   "id": "e9d592bd",
   "metadata": {},
   "outputs": [],
   "source": [
    "def proc_test_result(res_text):\n",
    "    for line in res_text:\n",
    "        if line.startswith('Failing scenario'):\n",
    "            return False\n",
    "    return True\n",
    "\n",
    "def run_test(test_scenario):\n",
    "    res = subprocess.run([\"behave\", test_scenario ], capture_output=True) \n",
    "    res_text = str(res.stdout, 'UTF-8').replace('\\r','').split('\\n')\n",
    "    test_result = {'result': proc_test_result(res_text), 'raw_text': \"\\n\".join(res_text)}\n",
    "    print(json.dumps(test_result, indent=4))\n",
    "    return test_result\n",
    "\n",
    "def get_ms_name():\n",
    "    return 'ms_test_issue'"
   ]
  },
  {
   "cell_type": "code",
   "execution_count": null,
   "id": "f2c7ad10",
   "metadata": {},
   "outputs": [],
   "source": [
    "class Test_Automation(BaseHTTPRequestHandler):\n",
    "    # \"c:\\\\dev\\\\python\\\\bdd\\\\features\\\\google_search.feature\"\n",
    "    def do_GET(self):\n",
    "        test_scenario = self.path\n",
    "        \n",
    "        logger.info(f'automated test for {test_scenario}')\n",
    "        \n",
    "        query_components = parse_qs(urlparse(self.path).query)\n",
    "        logger.info(query_components['test_scenario'][0])\n",
    "        test_scenario = query_components[\"test_scenario\"][0]\n",
    "        response = run_test(test_scenario)\n",
    "        \n",
    "        self.send_response(200)\n",
    "        self.send_header(\"Content-type\", \"application/json\")\n",
    "        self.end_headers()\n",
    "        self.wfile.write(bytes(json.dumps(response),'utf-8'))"
   ]
  },
  {
   "cell_type": "code",
   "execution_count": null,
   "id": "bb8ebea5",
   "metadata": {},
   "outputs": [],
   "source": [
    "def start_webserver(server_name, server_port, log):\n",
    "    webserver = HTTPServer((server_name, server_port), Test_Automation)\n",
    "    log.info(\"%s started http://%s:%s\" % (get_ms_name(), server_name, server_port))\n",
    "\n",
    "    try:\n",
    "        webserver.serve_forever()\n",
    "    except KeyboardInterrupt:\n",
    "        print(\"Interrupted by keyboard ...\")"
   ]
  },
  {
   "cell_type": "code",
   "execution_count": null,
   "id": "08092350",
   "metadata": {},
   "outputs": [],
   "source": [
    "def ms_init():\n",
    "    global logger\n",
    "    logger = get_logger(get_ms_name())\n",
    "\n",
    "if __name__ == \"__main__\":\n",
    "    if len(sys.argv) >= 2 and sys.argv[1].isnumeric():\n",
    "        server_port = int(sys.argv[1])\n",
    "    else:\n",
    "        server_port = 8383\n",
    "    \n",
    "    logger = None\n",
    "    ms_init()\n",
    "    start_webserver('localhost', server_port, logger)\n",
    "    webserver.close()\n",
    "    print(\"Server stopped.\")"
   ]
  },
  {
   "cell_type": "code",
   "execution_count": null,
   "id": "aa2fb035",
   "metadata": {},
   "outputs": [],
   "source": []
  },
  {
   "cell_type": "code",
   "execution_count": null,
   "id": "08b4c5fa",
   "metadata": {},
   "outputs": [],
   "source": []
  }
 ],
 "metadata": {
  "kernelspec": {
   "display_name": "Python 3 (ipykernel)",
   "language": "python",
   "name": "python3"
  },
  "language_info": {
   "codemirror_mode": {
    "name": "ipython",
    "version": 3
   },
   "file_extension": ".py",
   "mimetype": "text/x-python",
   "name": "python",
   "nbconvert_exporter": "python",
   "pygments_lexer": "ipython3",
   "version": "3.10.5"
  }
 },
 "nbformat": 4,
 "nbformat_minor": 5
}
