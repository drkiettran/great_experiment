{
 "cells": [
  {
   "cell_type": "code",
   "execution_count": 1,
   "id": "9f452fdd",
   "metadata": {},
   "outputs": [],
   "source": [
    "from jira import JIRA, exceptions\n",
    "import logging\n",
    "import sys\n",
    "import os\n",
    "import json\n",
    "from http.server import BaseHTTPRequestHandler, HTTPServer\n",
    "import time"
   ]
  },
  {
   "cell_type": "code",
   "execution_count": 2,
   "id": "aeadfa6d",
   "metadata": {},
   "outputs": [],
   "source": [
    "def get_logger(logger_name):    \n",
    "    log = logging.getLogger(logger_name)\n",
    "    log.setLevel(logging.DEBUG)\n",
    "    handler = logging.StreamHandler(sys.stderr)\n",
    "    formatter = logging.Formatter('%(name)s - %(levelname)s - %(message)s')\n",
    "    handler.setFormatter(formatter)\n",
    "    log.handlers = [handler]\n",
    "    return log"
   ]
  },
  {
   "cell_type": "code",
   "execution_count": 3,
   "id": "f971c00b",
   "metadata": {},
   "outputs": [],
   "source": [
    "def init_jira_environment(log, jira_url, user_name, user_psw):\n",
    "    jira_options = {'server': jira_url}\n",
    "    log.info(f\"server: {jira_options['server']}\")\n",
    "    jira_handle = JIRA(options=jira_options, basic_auth=(user_name, user_psw))\n",
    "    return jira_handle\n",
    "\n",
    "def get_ms_name():\n",
    "    return 'ms_jira_get_issue'\n",
    "\n",
    "def get_success_response(payload):\n",
    "    return {'ms_name': get_ms_name(), 'request_status': 'SUCCESS', 'payload': payload}\n",
    "\n",
    "def get_failure_response(error):\n",
    "    return {'ms_name': get_ms_name(), 'request_status': 'FAILURE', 'error': error}\n"
   ]
  },
  {
   "cell_type": "code",
   "execution_count": 4,
   "id": "56075cfd",
   "metadata": {},
   "outputs": [],
   "source": [
    "class JIRA_Issue(BaseHTTPRequestHandler):\n",
    "    global jira_handle\n",
    "    def do_GET(self):\n",
    "        issue_id = self.path\n",
    "        logger.info(f'getting jira issue for {issue_id}')\n",
    "        \n",
    "        try:\n",
    "            jira_issue = jira_handle.issue(issue_id)                        \n",
    "            response = get_success_response(jira_issue.raw)\n",
    "        except exceptions.JIRAError as e:\n",
    "            logger.info(e.status_code)\n",
    "            logger.info(e.text)\n",
    "            response = get_failure_response(e.status_code)\n",
    "                    \n",
    "        self.send_response(200)\n",
    "        self.send_header(\"Content-type\", \"application/json\")\n",
    "        self.end_headers()\n",
    "        self.wfile.write(bytes(json.dumps(response),'utf-8'))"
   ]
  },
  {
   "cell_type": "code",
   "execution_count": 5,
   "id": "a3761f29",
   "metadata": {},
   "outputs": [],
   "source": [
    "def start_webserver(server_name, server_port, log):\n",
    "    webserver = HTTPServer((server_name, server_port), JIRA_Issue)\n",
    "    log.info(\"%s started http://%s:%s\" % (get_ms_name(), server_name, server_port))\n",
    "\n",
    "    try:\n",
    "        webserver.serve_forever()\n",
    "    except KeyboardInterrupt:\n",
    "        print(\"Interrupted by keyboard ...\")\n",
    "\n",
    "def set_up_jira(logger, jira_url, user_name, user_psw):\n",
    "    return init_jira_environment(logger, jira_url, user_name, user_psw)"
   ]
  },
  {
   "cell_type": "code",
   "execution_count": 6,
   "id": "6f500114",
   "metadata": {},
   "outputs": [],
   "source": [
    "## Main program"
   ]
  },
  {
   "cell_type": "code",
   "execution_count": 7,
   "id": "94076cca",
   "metadata": {},
   "outputs": [
    {
     "name": "stderr",
     "output_type": "stream",
     "text": [
      "ms_jira_get_issue - INFO - server: https://drkiettran@atlassian.net\n"
     ]
    },
    {
     "name": "stdout",
     "output_type": "stream",
     "text": [
      "https://drkiettran@atlassian.net\n",
      "drkiettran@gmail.com\n",
      "ATATT3xFfGF0w16l0ZpSKCu8vQ3JmHX3snvFsQa2CshrQLe8Knw1VXhKcAE2mzf3A6ziva450zP8MM2Vbvecw5_KqP7j49RjphabU3lu2TtrjX0g0X9cx5AyEXCxwZoydgmpdfgyJwxYkITJqLsNy1D6nbT7JLktgeF7KXnYzccEUntXbseN4eE=33CF8DF5\n"
     ]
    },
    {
     "ename": "JSONDecodeError",
     "evalue": "Expecting value: line 1 column 1 (char 0)",
     "output_type": "error",
     "traceback": [
      "\u001b[1;31m---------------------------------------------------------------------------\u001b[0m",
      "\u001b[1;31mJSONDecodeError\u001b[0m                           Traceback (most recent call last)",
      "File \u001b[1;32mC:\\dev\\bin\\python310\\Lib\\site-packages\\requests\\models.py:971\u001b[0m, in \u001b[0;36mResponse.json\u001b[1;34m(self, **kwargs)\u001b[0m\n\u001b[0;32m    970\u001b[0m \u001b[38;5;28;01mtry\u001b[39;00m:\n\u001b[1;32m--> 971\u001b[0m     \u001b[38;5;28;01mreturn\u001b[39;00m complexjson\u001b[38;5;241m.\u001b[39mloads(\u001b[38;5;28mself\u001b[39m\u001b[38;5;241m.\u001b[39mtext, \u001b[38;5;241m*\u001b[39m\u001b[38;5;241m*\u001b[39mkwargs)\n\u001b[0;32m    972\u001b[0m \u001b[38;5;28;01mexcept\u001b[39;00m JSONDecodeError \u001b[38;5;28;01mas\u001b[39;00m e:\n\u001b[0;32m    973\u001b[0m     \u001b[38;5;66;03m# Catch JSON-related errors and raise as requests.JSONDecodeError\u001b[39;00m\n\u001b[0;32m    974\u001b[0m     \u001b[38;5;66;03m# This aliases json.JSONDecodeError and simplejson.JSONDecodeError\u001b[39;00m\n",
      "File \u001b[1;32mjson\\__init__.py:346\u001b[0m, in \u001b[0;36mloads\u001b[1;34m(s, cls, object_hook, parse_float, parse_int, parse_constant, object_pairs_hook, **kw)\u001b[0m\n",
      "File \u001b[1;32mjson\\decoder.py:337\u001b[0m, in \u001b[0;36mdecode\u001b[1;34m(self, s, _w)\u001b[0m\n",
      "File \u001b[1;32mjson\\decoder.py:355\u001b[0m, in \u001b[0;36mraw_decode\u001b[1;34m(self, s, idx)\u001b[0m\n",
      "\u001b[1;31mJSONDecodeError\u001b[0m: Expecting value: line 1 column 1 (char 0)",
      "\nDuring handling of the above exception, another exception occurred:\n",
      "\u001b[1;31mJSONDecodeError\u001b[0m                           Traceback (most recent call last)",
      "Input \u001b[1;32mIn [7]\u001b[0m, in \u001b[0;36m<cell line: 7>\u001b[1;34m()\u001b[0m\n\u001b[0;32m     16\u001b[0m \u001b[38;5;28mprint\u001b[39m(os\u001b[38;5;241m.\u001b[39menviron[\u001b[38;5;124m'\u001b[39m\u001b[38;5;124mjira_user_name\u001b[39m\u001b[38;5;124m'\u001b[39m])\n\u001b[0;32m     17\u001b[0m \u001b[38;5;28mprint\u001b[39m(os\u001b[38;5;241m.\u001b[39menviron[\u001b[38;5;124m'\u001b[39m\u001b[38;5;124mjira_user_psw\u001b[39m\u001b[38;5;124m'\u001b[39m])\n\u001b[1;32m---> 19\u001b[0m \u001b[43mms_init\u001b[49m\u001b[43m(\u001b[49m\u001b[43mos\u001b[49m\u001b[38;5;241;43m.\u001b[39;49m\u001b[43menviron\u001b[49m\u001b[43m[\u001b[49m\u001b[38;5;124;43m'\u001b[39;49m\u001b[38;5;124;43mjira_url\u001b[39;49m\u001b[38;5;124;43m'\u001b[39;49m\u001b[43m]\u001b[49m\u001b[43m,\u001b[49m\u001b[43m \u001b[49m\u001b[43mos\u001b[49m\u001b[38;5;241;43m.\u001b[39;49m\u001b[43menviron\u001b[49m\u001b[43m[\u001b[49m\u001b[38;5;124;43m'\u001b[39;49m\u001b[38;5;124;43mjira_user_name\u001b[39;49m\u001b[38;5;124;43m'\u001b[39;49m\u001b[43m]\u001b[49m\u001b[43m,\u001b[49m\u001b[43m \u001b[49m\u001b[43mos\u001b[49m\u001b[38;5;241;43m.\u001b[39;49m\u001b[43menviron\u001b[49m\u001b[43m[\u001b[49m\u001b[38;5;124;43m'\u001b[39;49m\u001b[38;5;124;43mjira_user_psw\u001b[39;49m\u001b[38;5;124;43m'\u001b[39;49m\u001b[43m]\u001b[49m\u001b[43m)\u001b[49m\n\u001b[0;32m     20\u001b[0m start_webserver(\u001b[38;5;124m'\u001b[39m\u001b[38;5;124mlocalhost\u001b[39m\u001b[38;5;124m'\u001b[39m, server_port, logger)\n\u001b[0;32m     21\u001b[0m webserver\u001b[38;5;241m.\u001b[39mclose()\n",
      "Input \u001b[1;32mIn [7]\u001b[0m, in \u001b[0;36mms_init\u001b[1;34m(jira_url, user_name, user_psw)\u001b[0m\n\u001b[0;32m      2\u001b[0m \u001b[38;5;28;01mglobal\u001b[39;00m logger, jira_handle\n\u001b[0;32m      3\u001b[0m logger \u001b[38;5;241m=\u001b[39m get_logger(get_ms_name())\n\u001b[1;32m----> 4\u001b[0m jira_handle \u001b[38;5;241m=\u001b[39m \u001b[43mset_up_jira\u001b[49m\u001b[43m(\u001b[49m\u001b[43mlogger\u001b[49m\u001b[43m,\u001b[49m\u001b[43m \u001b[49m\u001b[43mjira_url\u001b[49m\u001b[43m,\u001b[49m\u001b[43m \u001b[49m\u001b[43muser_name\u001b[49m\u001b[43m,\u001b[49m\u001b[43m \u001b[49m\u001b[43muser_psw\u001b[49m\u001b[43m)\u001b[49m\n\u001b[0;32m      5\u001b[0m \u001b[38;5;28mprint\u001b[39m (jira_handle)\n",
      "Input \u001b[1;32mIn [5]\u001b[0m, in \u001b[0;36mset_up_jira\u001b[1;34m(logger, jira_url, user_name, user_psw)\u001b[0m\n\u001b[0;32m     10\u001b[0m \u001b[38;5;28;01mdef\u001b[39;00m \u001b[38;5;21mset_up_jira\u001b[39m(logger, jira_url, user_name, user_psw):\n\u001b[1;32m---> 11\u001b[0m     \u001b[38;5;28;01mreturn\u001b[39;00m \u001b[43minit_jira_environment\u001b[49m\u001b[43m(\u001b[49m\u001b[43mlogger\u001b[49m\u001b[43m,\u001b[49m\u001b[43m \u001b[49m\u001b[43mjira_url\u001b[49m\u001b[43m,\u001b[49m\u001b[43m \u001b[49m\u001b[43muser_name\u001b[49m\u001b[43m,\u001b[49m\u001b[43m \u001b[49m\u001b[43muser_psw\u001b[49m\u001b[43m)\u001b[49m\n",
      "Input \u001b[1;32mIn [3]\u001b[0m, in \u001b[0;36minit_jira_environment\u001b[1;34m(log, jira_url, user_name, user_psw)\u001b[0m\n\u001b[0;32m      2\u001b[0m jira_options \u001b[38;5;241m=\u001b[39m {\u001b[38;5;124m'\u001b[39m\u001b[38;5;124mserver\u001b[39m\u001b[38;5;124m'\u001b[39m: jira_url}\n\u001b[0;32m      3\u001b[0m log\u001b[38;5;241m.\u001b[39minfo(\u001b[38;5;124mf\u001b[39m\u001b[38;5;124m\"\u001b[39m\u001b[38;5;124mserver: \u001b[39m\u001b[38;5;132;01m{\u001b[39;00mjira_options[\u001b[38;5;124m'\u001b[39m\u001b[38;5;124mserver\u001b[39m\u001b[38;5;124m'\u001b[39m]\u001b[38;5;132;01m}\u001b[39;00m\u001b[38;5;124m\"\u001b[39m)\n\u001b[1;32m----> 4\u001b[0m jira_handle \u001b[38;5;241m=\u001b[39m \u001b[43mJIRA\u001b[49m\u001b[43m(\u001b[49m\u001b[43moptions\u001b[49m\u001b[38;5;241;43m=\u001b[39;49m\u001b[43mjira_options\u001b[49m\u001b[43m,\u001b[49m\u001b[43m \u001b[49m\u001b[43mbasic_auth\u001b[49m\u001b[38;5;241;43m=\u001b[39;49m\u001b[43m(\u001b[49m\u001b[43muser_name\u001b[49m\u001b[43m,\u001b[49m\u001b[43m \u001b[49m\u001b[43muser_psw\u001b[49m\u001b[43m)\u001b[49m\u001b[43m)\u001b[49m\n\u001b[0;32m      5\u001b[0m \u001b[38;5;28;01mreturn\u001b[39;00m jira_handle\n",
      "File \u001b[1;32mC:\\dev\\bin\\python310\\Lib\\site-packages\\jira\\client.py:580\u001b[0m, in \u001b[0;36mJIRA.__init__\u001b[1;34m(self, server, options, basic_auth, token_auth, oauth, jwt, kerberos, kerberos_options, validate, get_server_info, async_, async_workers, logging, max_retries, proxies, timeout, auth, default_batch_sizes)\u001b[0m\n\u001b[0;32m    577\u001b[0m \u001b[38;5;28mself\u001b[39m\u001b[38;5;241m.\u001b[39mdeploymentType \u001b[38;5;241m=\u001b[39m \u001b[38;5;28;01mNone\u001b[39;00m\n\u001b[0;32m    578\u001b[0m \u001b[38;5;28;01mif\u001b[39;00m get_server_info:\n\u001b[0;32m    579\u001b[0m     \u001b[38;5;66;03m# We need version in order to know what API calls are available or not\u001b[39;00m\n\u001b[1;32m--> 580\u001b[0m     si \u001b[38;5;241m=\u001b[39m \u001b[38;5;28;43mself\u001b[39;49m\u001b[38;5;241;43m.\u001b[39;49m\u001b[43mserver_info\u001b[49m\u001b[43m(\u001b[49m\u001b[43m)\u001b[49m\n\u001b[0;32m    581\u001b[0m     \u001b[38;5;28;01mtry\u001b[39;00m:\n\u001b[0;32m    582\u001b[0m         \u001b[38;5;28mself\u001b[39m\u001b[38;5;241m.\u001b[39m_version \u001b[38;5;241m=\u001b[39m \u001b[38;5;28mtuple\u001b[39m(si[\u001b[38;5;124m\"\u001b[39m\u001b[38;5;124mversionNumbers\u001b[39m\u001b[38;5;124m\"\u001b[39m])\n",
      "File \u001b[1;32mC:\\dev\\bin\\python310\\Lib\\site-packages\\jira\\client.py:3120\u001b[0m, in \u001b[0;36mJIRA.server_info\u001b[1;34m(self)\u001b[0m\n\u001b[0;32m   3114\u001b[0m \u001b[38;5;124;03m\"\"\"Get a dict of server information for this Jira instance.\u001b[39;00m\n\u001b[0;32m   3115\u001b[0m \n\u001b[0;32m   3116\u001b[0m \u001b[38;5;124;03mReturns:\u001b[39;00m\n\u001b[0;32m   3117\u001b[0m \u001b[38;5;124;03m    Dict[str, Any]\u001b[39;00m\n\u001b[0;32m   3118\u001b[0m \u001b[38;5;124;03m\"\"\"\u001b[39;00m\n\u001b[0;32m   3119\u001b[0m retry \u001b[38;5;241m=\u001b[39m \u001b[38;5;241m0\u001b[39m\n\u001b[1;32m-> 3120\u001b[0m j \u001b[38;5;241m=\u001b[39m \u001b[38;5;28;43mself\u001b[39;49m\u001b[38;5;241;43m.\u001b[39;49m\u001b[43m_get_json\u001b[49m\u001b[43m(\u001b[49m\u001b[38;5;124;43m\"\u001b[39;49m\u001b[38;5;124;43mserverInfo\u001b[39;49m\u001b[38;5;124;43m\"\u001b[39;49m\u001b[43m)\u001b[49m\n\u001b[0;32m   3121\u001b[0m \u001b[38;5;28;01mwhile\u001b[39;00m \u001b[38;5;129;01mnot\u001b[39;00m j \u001b[38;5;129;01mand\u001b[39;00m retry \u001b[38;5;241m<\u001b[39m \u001b[38;5;241m3\u001b[39m:\n\u001b[0;32m   3122\u001b[0m     \u001b[38;5;28mself\u001b[39m\u001b[38;5;241m.\u001b[39mlog\u001b[38;5;241m.\u001b[39mwarning(\n\u001b[0;32m   3123\u001b[0m         \u001b[38;5;124m\"\u001b[39m\u001b[38;5;124mBug https://jira.atlassian.com/browse/JRA-59676 trying again...\u001b[39m\u001b[38;5;124m\"\u001b[39m\n\u001b[0;32m   3124\u001b[0m     )\n",
      "File \u001b[1;32mC:\\dev\\bin\\python310\\Lib\\site-packages\\jira\\client.py:3858\u001b[0m, in \u001b[0;36mJIRA._get_json\u001b[1;34m(self, path, params, base)\u001b[0m\n\u001b[0;32m   3856\u001b[0m \u001b[38;5;28;01mexcept\u001b[39;00m \u001b[38;5;167;01mValueError\u001b[39;00m \u001b[38;5;28;01mas\u001b[39;00m e:\n\u001b[0;32m   3857\u001b[0m     \u001b[38;5;28mself\u001b[39m\u001b[38;5;241m.\u001b[39mlog\u001b[38;5;241m.\u001b[39merror(\u001b[38;5;124mf\u001b[39m\u001b[38;5;124m\"\u001b[39m\u001b[38;5;132;01m{\u001b[39;00me\u001b[38;5;132;01m}\u001b[39;00m\u001b[38;5;130;01m\\n\u001b[39;00m\u001b[38;5;132;01m{\u001b[39;00mr\u001b[38;5;241m.\u001b[39mtext \u001b[38;5;28;01mif\u001b[39;00m r \u001b[38;5;28;01melse\u001b[39;00m r\u001b[38;5;132;01m}\u001b[39;00m\u001b[38;5;124m\"\u001b[39m)\n\u001b[1;32m-> 3858\u001b[0m     \u001b[38;5;28;01mraise\u001b[39;00m e\n\u001b[0;32m   3859\u001b[0m \u001b[38;5;28;01mreturn\u001b[39;00m r_json\n",
      "File \u001b[1;32mC:\\dev\\bin\\python310\\Lib\\site-packages\\jira\\client.py:3855\u001b[0m, in \u001b[0;36mJIRA._get_json\u001b[1;34m(self, path, params, base)\u001b[0m\n\u001b[0;32m   3853\u001b[0m r \u001b[38;5;241m=\u001b[39m \u001b[38;5;28mself\u001b[39m\u001b[38;5;241m.\u001b[39m_session\u001b[38;5;241m.\u001b[39mget(url, params\u001b[38;5;241m=\u001b[39mparams)\n\u001b[0;32m   3854\u001b[0m \u001b[38;5;28;01mtry\u001b[39;00m:\n\u001b[1;32m-> 3855\u001b[0m     r_json \u001b[38;5;241m=\u001b[39m \u001b[43mjson_loads\u001b[49m\u001b[43m(\u001b[49m\u001b[43mr\u001b[49m\u001b[43m)\u001b[49m\n\u001b[0;32m   3856\u001b[0m \u001b[38;5;28;01mexcept\u001b[39;00m \u001b[38;5;167;01mValueError\u001b[39;00m \u001b[38;5;28;01mas\u001b[39;00m e:\n\u001b[0;32m   3857\u001b[0m     \u001b[38;5;28mself\u001b[39m\u001b[38;5;241m.\u001b[39mlog\u001b[38;5;241m.\u001b[39merror(\u001b[38;5;124mf\u001b[39m\u001b[38;5;124m\"\u001b[39m\u001b[38;5;132;01m{\u001b[39;00me\u001b[38;5;132;01m}\u001b[39;00m\u001b[38;5;130;01m\\n\u001b[39;00m\u001b[38;5;132;01m{\u001b[39;00mr\u001b[38;5;241m.\u001b[39mtext \u001b[38;5;28;01mif\u001b[39;00m r \u001b[38;5;28;01melse\u001b[39;00m r\u001b[38;5;132;01m}\u001b[39;00m\u001b[38;5;124m\"\u001b[39m)\n",
      "File \u001b[1;32mC:\\dev\\bin\\python310\\Lib\\site-packages\\jira\\utils\\__init__.py:76\u001b[0m, in \u001b[0;36mjson_loads\u001b[1;34m(resp)\u001b[0m\n\u001b[0;32m     74\u001b[0m resp \u001b[38;5;241m=\u001b[39m cast(Response, resp)  \u001b[38;5;66;03m# tell mypy only Response-like are here\u001b[39;00m\n\u001b[0;32m     75\u001b[0m \u001b[38;5;28;01mtry\u001b[39;00m:\n\u001b[1;32m---> 76\u001b[0m     \u001b[38;5;28;01mreturn\u001b[39;00m \u001b[43mresp\u001b[49m\u001b[38;5;241;43m.\u001b[39;49m\u001b[43mjson\u001b[49m\u001b[43m(\u001b[49m\u001b[43m)\u001b[49m\n\u001b[0;32m     77\u001b[0m \u001b[38;5;28;01mexcept\u001b[39;00m \u001b[38;5;167;01mValueError\u001b[39;00m:\n\u001b[0;32m     78\u001b[0m     \u001b[38;5;66;03m# json.loads() fails with empty bodies\u001b[39;00m\n\u001b[0;32m     79\u001b[0m     \u001b[38;5;28;01mif\u001b[39;00m \u001b[38;5;129;01mnot\u001b[39;00m resp\u001b[38;5;241m.\u001b[39mtext:\n",
      "File \u001b[1;32mC:\\dev\\bin\\python310\\Lib\\site-packages\\requests\\models.py:975\u001b[0m, in \u001b[0;36mResponse.json\u001b[1;34m(self, **kwargs)\u001b[0m\n\u001b[0;32m    971\u001b[0m     \u001b[38;5;28;01mreturn\u001b[39;00m complexjson\u001b[38;5;241m.\u001b[39mloads(\u001b[38;5;28mself\u001b[39m\u001b[38;5;241m.\u001b[39mtext, \u001b[38;5;241m*\u001b[39m\u001b[38;5;241m*\u001b[39mkwargs)\n\u001b[0;32m    972\u001b[0m \u001b[38;5;28;01mexcept\u001b[39;00m JSONDecodeError \u001b[38;5;28;01mas\u001b[39;00m e:\n\u001b[0;32m    973\u001b[0m     \u001b[38;5;66;03m# Catch JSON-related errors and raise as requests.JSONDecodeError\u001b[39;00m\n\u001b[0;32m    974\u001b[0m     \u001b[38;5;66;03m# This aliases json.JSONDecodeError and simplejson.JSONDecodeError\u001b[39;00m\n\u001b[1;32m--> 975\u001b[0m     \u001b[38;5;28;01mraise\u001b[39;00m RequestsJSONDecodeError(e\u001b[38;5;241m.\u001b[39mmsg, e\u001b[38;5;241m.\u001b[39mdoc, e\u001b[38;5;241m.\u001b[39mpos)\n",
      "\u001b[1;31mJSONDecodeError\u001b[0m: Expecting value: line 1 column 1 (char 0)"
     ]
    }
   ],
   "source": [
    "def ms_init(jira_url, user_name, user_psw):\n",
    "    global logger, jira_handle\n",
    "    logger = get_logger(get_ms_name())\n",
    "    jira_handle = set_up_jira(logger, jira_url, user_name, user_psw)\n",
    "    print (jira_handle)\n",
    "    \n",
    "if __name__ == \"__main__\":\n",
    "    if len(sys.argv) >= 2 and sys.argv[1].isnumeric():\n",
    "        server_port = int(sys.argv[1])\n",
    "    else:\n",
    "        server_port = 8282\n",
    "    \n",
    "    jira_handle = None\n",
    "    logger = None\n",
    "    print(os.environ['jira_url'])\n",
    "    print(os.environ['jira_user_name'])\n",
    "    print(os.environ['jira_user_psw'])\n",
    "          \n",
    "    ms_init(os.environ['jira_url'], os.environ['jira_user_name'], os.environ['jira_user_psw'])\n",
    "    start_webserver('localhost', server_port, logger)\n",
    "    webserver.close()\n",
    "    print(\"Server stopped.\")\n",
    "    "
   ]
  },
  {
   "cell_type": "code",
   "execution_count": null,
   "id": "5209be83",
   "metadata": {},
   "outputs": [],
   "source": []
  }
 ],
 "metadata": {
  "kernelspec": {
   "display_name": "Python 3 (ipykernel)",
   "language": "python",
   "name": "python3"
  },
  "language_info": {
   "codemirror_mode": {
    "name": "ipython",
    "version": 3
   },
   "file_extension": ".py",
   "mimetype": "text/x-python",
   "name": "python",
   "nbconvert_exporter": "python",
   "pygments_lexer": "ipython3",
   "version": "3.10.5"
  }
 },
 "nbformat": 4,
 "nbformat_minor": 5
}
