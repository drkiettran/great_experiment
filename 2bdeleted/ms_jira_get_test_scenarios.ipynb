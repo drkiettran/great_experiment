{
 "cells": [
  {
   "cell_type": "code",
   "execution_count": null,
   "id": "bc91a0e4",
   "metadata": {},
   "outputs": [],
   "source": [
    "## https://jira.readthedocs.io/examples.html\n",
    "    \n",
    "from jira import JIRA, exceptions\n",
    "import logging\n",
    "import sys, os\n",
    "import json\n",
    "import subprocess\n",
    "from http.server import BaseHTTPRequestHandler, HTTPServer\n",
    "import time\n",
    "from urllib.parse import urlparse, parse_qs"
   ]
  },
  {
   "cell_type": "code",
   "execution_count": null,
   "id": "fa6fe4d2",
   "metadata": {},
   "outputs": [],
   "source": [
    "def get_logger(logger_name):    \n",
    "    log = logging.getLogger(logger_name)\n",
    "    log.setLevel(logging.DEBUG)\n",
    "    handler = logging.StreamHandler(sys.stderr)\n",
    "    formatter = logging.Formatter('%(name)s - %(levelname)s - %(message)s')\n",
    "    handler.setFormatter(formatter)\n",
    "    log.handlers = [handler]\n",
    "    return log"
   ]
  },
  {
   "cell_type": "code",
   "execution_count": null,
   "id": "38929f3a",
   "metadata": {},
   "outputs": [],
   "source": [
    "def init_jira_environment(log, jira_url, user_name, user_psw):\n",
    "    jira_options = {'server': jira_url}\n",
    "    log.info(f\"server: {jira_options['server']}\")\n",
    "    jira_handle = JIRA(options=jira_options, basic_auth=(user_name, user_psw))\n",
    "    return jira_handle\n",
    "\n",
    "def get_ms_name():\n",
    "    return 'ms_jira_get_test_scenarios'\n",
    "\n",
    "def get_success_response(test_scenarios):\n",
    "    return {'ms_name': get_ms_name(), 'request_status': 'SUCCESS', 'payload': {'test_scenarios': test_scenarios}}\n",
    "\n",
    "def get_failure_response(error):\n",
    "    return {'ms_name': get_ms_name(), 'request_status': 'FAILURE', 'error': error}"
   ]
  },
  {
   "cell_type": "code",
   "execution_count": null,
   "id": "d40c01fc",
   "metadata": {},
   "outputs": [],
   "source": [
    "class JIRA_Get_Test_Scenarios(BaseHTTPRequestHandler):\n",
    "    global jira_handle\n",
    "    def do_GET(self):\n",
    "        issue_id = self.path.split('/')[1]\n",
    "        logger.info(f'getting test scenarios for issue {issue_id}')\n",
    "        \n",
    "        try:\n",
    "            jira_issue = jira_handle.issue(issue_id)\n",
    "            response = get_success_response(jira_issue.fields.labels)\n",
    "        except exceptions.JIRAError as e:\n",
    "            logger.info(e.status_code)\n",
    "            logger.info(e.text)\n",
    "            response = get_failure_response(e.status_code)\n",
    "                    \n",
    "        self.send_response(200)\n",
    "        self.send_header(\"Content-type\", \"application/json\")\n",
    "        self.end_headers()\n",
    "        self.wfile.write(bytes(json.dumps(response),'utf-8'))"
   ]
  },
  {
   "cell_type": "code",
   "execution_count": null,
   "id": "0641d140",
   "metadata": {},
   "outputs": [],
   "source": [
    "def start_webserver(server_name, server_port, log):\n",
    "    webserver = HTTPServer((server_name, server_port), JIRA_Get_Test_Scenarios)\n",
    "    log.info(\"%s started http://%s:%s\" % (get_ms_name(), server_name, server_port))\n",
    "\n",
    "    try:\n",
    "        webserver.serve_forever()\n",
    "    except KeyboardInterrupt:\n",
    "        print(\"Interrupted by keyboard ...\")\n",
    "\n",
    "def set_up_jira(logger, jira_url, user_name, user_psw):\n",
    "    return init_jira_environment(logger, jira_url, user_name, user_psw)"
   ]
  },
  {
   "cell_type": "code",
   "execution_count": null,
   "id": "41a86a4a",
   "metadata": {},
   "outputs": [],
   "source": [
    "def ms_init(jira_url, user_name, user_psw):\n",
    "    global logger, jira_handle\n",
    "    logger = get_logger(get_ms_name())\n",
    "    jira_handle = set_up_jira(logger, jira_url, user_name, user_psw)\n",
    "    print (jira_handle)\n",
    "    \n",
    "if __name__ == \"__main__\":\n",
    "    if len(sys.argv) >= 2 and sys.argv[1].isnumeric():\n",
    "        server_port = int(sys.argv[1])\n",
    "    else:\n",
    "        server_port = 8585\n",
    "    \n",
    "    jira_handle = None\n",
    "    logger = None\n",
    "    ms_init(os.environ['jira_url'], os.environ['jira_user_name'], os.environ['jira_user_psw'])\n",
    "    start_webserver('localhost', server_port, logger)\n",
    "    webserver.close()\n",
    "    print(\"Server stopped.\")"
   ]
  },
  {
   "cell_type": "code",
   "execution_count": null,
   "id": "b70ae15d",
   "metadata": {},
   "outputs": [],
   "source": []
  },
  {
   "cell_type": "code",
   "execution_count": null,
   "id": "388e3cc2",
   "metadata": {},
   "outputs": [],
   "source": []
  }
 ],
 "metadata": {
  "kernelspec": {
   "display_name": "Python 3 (ipykernel)",
   "language": "python",
   "name": "python3"
  },
  "language_info": {
   "codemirror_mode": {
    "name": "ipython",
    "version": 3
   },
   "file_extension": ".py",
   "mimetype": "text/x-python",
   "name": "python",
   "nbconvert_exporter": "python",
   "pygments_lexer": "ipython3",
   "version": "3.11.4"
  }
 },
 "nbformat": 4,
 "nbformat_minor": 5
}
