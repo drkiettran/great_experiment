{
 "cells": [
  {
   "cell_type": "markdown",
   "id": "038e3d9b-e249-413c-bb14-da783a61216a",
   "metadata": {},
   "source": [
    "# Get an ISSUE by issue key"
   ]
  },
  {
   "cell_type": "code",
   "execution_count": null,
   "id": "9f452fdd",
   "metadata": {},
   "outputs": [],
   "source": [
    "from http.server import BaseHTTPRequestHandler, HTTPServer\n",
    "from jira import JIRA, exceptions\n",
    "import os\n",
    "import sys\n",
    "import json\n",
    "sys.path.append('.')\n",
    "import utility"
   ]
  },
  {
   "cell_type": "code",
   "execution_count": null,
   "id": "56075cfd",
   "metadata": {},
   "outputs": [],
   "source": [
    "class Microservice(BaseHTTPRequestHandler):\n",
    "    global app_log, app_jira_handle\n",
    "    def get_success_response(self, payload):\n",
    "        return {'ms_name': app_name, 'request_status': 'SUCCESS', 'payload': payload}\n",
    "\n",
    "    def get_failure_response(self, error_code, error_text):\n",
    "        return {'ms_name': app_name, 'request_status': 'FAILURE', 'error': {'error_code': error_code, 'error_text': error_text}}\n",
    "        \n",
    "    def do_GET(self):\n",
    "        issue_id = self.path\n",
    "        app_log.info(f'getting jira issue for {issue_id}')\n",
    "        \n",
    "        try:\n",
    "            self.jira_issue = app_jira_handle.issue(issue_id)                        \n",
    "            self.response_msg = self.get_success_response(self.jira_issue.raw)\n",
    "        except exceptions.JIRAError as e:\n",
    "            app_log.info(e.status_code)\n",
    "            app_log.info(e.text)\n",
    "            self.response_msg = self.get_failure_response(e.status_code, e.text)\n",
    "            \n",
    "        self.response()\n",
    "        \n",
    "    def response(self):\n",
    "        self.send_response(200)\n",
    "        self.send_header(\"Content-type\", \"application/json\")\n",
    "        self.end_headers()\n",
    "        self.wfile.write(bytes(json.dumps(self.response_msg),'utf-8'))"
   ]
  },
  {
   "cell_type": "code",
   "execution_count": null,
   "id": "5209be83",
   "metadata": {},
   "outputs": [],
   "source": [
    "app_name = 'ms_jira_get_issue'\n",
    "app_jira_handle = None\n",
    "app_default_server_port = 8282\n",
    "app_default_server_name = 'localhost'\n",
    "app_log = utility.get_logger(app_name)\n",
    "app_log.info(f'{app_name} starts ...')\n",
    "\n",
    "if __name__ == \"__main__\":\n",
    "    ## Required fixed parameters as hostname portnumber\n",
    "    app_server_name, app_server_port = utility.get_server_info(app_default_server_name, app_default_server_port)\n",
    "    app_log.info(f'Starting {app_server_name} at port {app_server_port}')\n",
    "    app_jira_handle = utility.ms_init(app_name, app_log)\n",
    "    utility.start_webserver(app_name, app_server_name, app_server_port, app_log, Microservice)"
   ]
  },
  {
   "cell_type": "code",
   "execution_count": null,
   "id": "cebdfdd9-1a66-4bcd-b227-0a063bf55181",
   "metadata": {},
   "outputs": [],
   "source": []
  },
  {
   "cell_type": "code",
   "execution_count": null,
   "id": "6c9f4918-e208-4599-8bdf-ef423f86fb72",
   "metadata": {},
   "outputs": [],
   "source": []
  }
 ],
 "metadata": {
  "kernelspec": {
   "display_name": "Python 3 (ipykernel)",
   "language": "python",
   "name": "python3"
  },
  "language_info": {
   "codemirror_mode": {
    "name": "ipython",
    "version": 3
   },
   "file_extension": ".py",
   "mimetype": "text/x-python",
   "name": "python",
   "nbconvert_exporter": "python",
   "pygments_lexer": "ipython3",
   "version": "3.10.5"
  }
 },
 "nbformat": 4,
 "nbformat_minor": 5
}
