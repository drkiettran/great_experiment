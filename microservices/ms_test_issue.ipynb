{
 "cells": [
  {
   "cell_type": "code",
   "execution_count": null,
   "id": "7d888194",
   "metadata": {},
   "outputs": [],
   "source": [
    "from http.server import BaseHTTPRequestHandler, HTTPServer\n",
    "import os\n",
    "import sys\n",
    "import json\n",
    "import subprocess\n",
    "from urllib.parse import urlparse, parse_qs\n",
    "\n",
    "sys.path.append('.')\n",
    "import utility"
   ]
  },
  {
   "cell_type": "code",
   "execution_count": null,
   "id": "f2c7ad10",
   "metadata": {},
   "outputs": [],
   "source": [
    "class Microservice(BaseHTTPRequestHandler):\n",
    "    # \"c:/dev/python/bdd/features/google_search.feature\"\n",
    "    global app_log, app_jira_handle\n",
    "    def proc_test_result(self, res_text):\n",
    "        for line in res_text:\n",
    "            if line.startswith('Failing scenario'):\n",
    "                return False\n",
    "            elif 'InvalidFileNameError' in line:\n",
    "                return False\n",
    "        return True\n",
    "\n",
    "    def run_test(self):\n",
    "        res = subprocess.run([\"behave\", self.test_scenario], capture_output=True) \n",
    "        res_text = str(res.stdout, 'UTF-8').replace('\\r','').split('\\n')\n",
    "        test_result = {'result': self.proc_test_result(res_text), 'raw_text': \"\\n\".join(res_text)}\n",
    "        app_log.info(json.dumps(test_result, indent=4))\n",
    "        return test_result\n",
    "        \n",
    "    def do_GET(self):\n",
    "        test_scenario = self.path\n",
    "        app_log.info(f'automated test for {test_scenario}')\n",
    "        \n",
    "        query_components = parse_qs(urlparse(self.path).query)\n",
    "        app_log.info(query_components['test_scenario'][0])\n",
    "        self.test_scenario = query_components[\"test_scenario\"][0]\n",
    "        self.response_msg = self.run_test()\n",
    "\n",
    "        self.response()\n",
    "\n",
    "    def response(self):\n",
    "        self.send_response(200)\n",
    "        self.send_header(\"Content-type\", \"application/json\")\n",
    "        self.end_headers()\n",
    "        self.wfile.write(bytes(json.dumps(self.response_msg),'utf-8'))"
   ]
  },
  {
   "cell_type": "code",
   "execution_count": null,
   "id": "aa2fb035",
   "metadata": {},
   "outputs": [],
   "source": [
    "app_name = 'ms_test_issue'\n",
    "app_jira_handle = None\n",
    "app_default_server_port = 8383\n",
    "app_default_server_name = 'localhost'\n",
    "app_log = utility.get_logger(app_name)\n",
    "app_log.info(f'{app_name} starts ...')\n",
    "\n",
    "if __name__ == \"__main__\":\n",
    "    ## Required fixed parameters as hostname portnumber\n",
    "    app_server_name, app_server_port = utility.get_server_info(app_default_server_name, app_default_server_port)\n",
    "    app_log.info(f'Starting {app_server_name} at port {app_server_port}')\n",
    "    utility.start_webserver(app_name, app_server_name, app_server_port, app_log, Microservice)"
   ]
  },
  {
   "cell_type": "code",
   "execution_count": null,
   "id": "08b4c5fa",
   "metadata": {},
   "outputs": [],
   "source": []
  },
  {
   "cell_type": "code",
   "execution_count": null,
   "id": "76ae10cf-f182-4173-998d-b688227b051b",
   "metadata": {},
   "outputs": [],
   "source": []
  }
 ],
 "metadata": {
  "kernelspec": {
   "display_name": "Python 3 (ipykernel)",
   "language": "python",
   "name": "python3"
  },
  "language_info": {
   "codemirror_mode": {
    "name": "ipython",
    "version": 3
   },
   "file_extension": ".py",
   "mimetype": "text/x-python",
   "name": "python",
   "nbconvert_exporter": "python",
   "pygments_lexer": "ipython3",
   "version": "3.10.5"
  }
 },
 "nbformat": 4,
 "nbformat_minor": 5
}
