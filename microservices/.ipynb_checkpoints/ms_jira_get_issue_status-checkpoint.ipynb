{
 "cells": [
  {
   "cell_type": "markdown",
   "id": "45403818-1d07-48d9-972a-9339543da4ec",
   "metadata": {},
   "source": [
    "# Get status of a JIRA issue by issue_key"
   ]
  },
  {
   "cell_type": "code",
   "execution_count": null,
   "id": "8865bb65",
   "metadata": {},
   "outputs": [],
   "source": [
    "from http.server import BaseHTTPRequestHandler, HTTPServer\n",
    "from jira import JIRA, exceptions\n",
    "import os\n",
    "import sys\n",
    "import json\n",
    "sys.path.append('.')\n",
    "import utility"
   ]
  },
  {
   "cell_type": "code",
   "execution_count": null,
   "id": "164bb5d7",
   "metadata": {},
   "outputs": [],
   "source": [
    "class Microservice(BaseHTTPRequestHandler):\n",
    "    global app_log, app_jira_handle\n",
    "    def get_success_response(self, payload):\n",
    "        return {'ms_name': app_name, 'request_status': 'SUCCESS', 'payload': payload}\n",
    "\n",
    "    def get_failure_response(self, error_code, error_text):\n",
    "        return {'ms_name': app_name, 'request_status': 'FAILURE', 'error': {'error_code': error_code, 'error_text': error_text}}\n",
    "        \n",
    "    def do_GET(self):\n",
    "        issue_id = self.path.replace('/','')\n",
    "        app_log.info(f'getting jira issue status for {issue_id}')\n",
    "        \n",
    "        try:\n",
    "            self.jira_issue = app_jira_handle.issue(issue_id)                        \n",
    "            self.response_msg = self.get_success_response(self.jira_issue.fields.status.name)\n",
    "        except exceptions.JIRAError as e:\n",
    "            app_log.info(e.status_code)\n",
    "            app_log.info(e.text)\n",
    "            self.response_msg = self.get_failure_response(e.status_code, e.text)\n",
    "\n",
    "        self.response()\n",
    "        \n",
    "    def response(self):\n",
    "        self.send_response(200)\n",
    "        self.send_header(\"Content-type\", \"application/json\")\n",
    "        self.end_headers()\n",
    "        self.wfile.write(bytes(json.dumps(self.response_msg),'utf-8'))"
   ]
  },
  {
   "cell_type": "code",
   "execution_count": null,
   "id": "a07c1b4a",
   "metadata": {},
   "outputs": [],
   "source": [
    "app_name = 'ms_jira_get_issue_status'\n",
    "app_jira_handle = None\n",
    "app_default_server_port = 8181\n",
    "app_default_server_name = 'localhost'\n",
    "app_log = utility.get_logger(app_name)\n",
    "app_log.info(f'{app_name} starts ...')\n",
    "\n",
    "if __name__ == \"__main__\":\n",
    "    ## Required fixed parameters as hostname portnumber\n",
    "    app_server_name, app_server_port = utility.get_server_info(app_default_server_name, app_default_server_port)\n",
    "    app_log.info(f'Starting {app_server_name} at port {app_server_port}')\n",
    "    app_jira_handle = utility.ms_init(app_name, app_log)\n",
    "    utility.start_webserver(app_name, app_server_name, app_server_port, app_log, Microservice)"
   ]
  },
  {
   "cell_type": "code",
   "execution_count": null,
   "id": "89dbe979",
   "metadata": {},
   "outputs": [],
   "source": []
  }
 ],
 "metadata": {
  "kernelspec": {
   "display_name": "Python 3 (ipykernel)",
   "language": "python",
   "name": "python3"
  },
  "language_info": {
   "codemirror_mode": {
    "name": "ipython",
    "version": 3
   },
   "file_extension": ".py",
   "mimetype": "text/x-python",
   "name": "python",
   "nbconvert_exporter": "python",
   "pygments_lexer": "ipython3",
   "version": "3.11.4"
  }
 },
 "nbformat": 4,
 "nbformat_minor": 5
}
