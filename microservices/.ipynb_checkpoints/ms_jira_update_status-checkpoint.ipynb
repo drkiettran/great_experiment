{
 "cells": [
  {
   "cell_type": "markdown",
   "id": "00e024ab-2ca8-419c-ae68-bf69b8f0cc2e",
   "metadata": {},
   "source": [
    "# Update status of a JIRA issue by issue id"
   ]
  },
  {
   "cell_type": "code",
   "execution_count": null,
   "id": "4477d374",
   "metadata": {},
   "outputs": [],
   "source": [
    "from http.server import BaseHTTPRequestHandler, HTTPServer\n",
    "from jira import JIRA, exceptions\n",
    "import os\n",
    "import sys\n",
    "import json\n",
    "sys.path.append('.')\n",
    "import utility"
   ]
  },
  {
   "cell_type": "code",
   "execution_count": null,
   "id": "6c4d1f56",
   "metadata": {},
   "outputs": [],
   "source": [
    "class Microservice(BaseHTTPRequestHandler):    \n",
    "    global app_log, app_jira_handle\n",
    "    def get_success_response(self, payload):\n",
    "        return {'ms_name': app_name, 'request_status': 'SUCCESS', 'payload': payload}\n",
    "\n",
    "    def get_failure_response(self, error_code, error_text):\n",
    "        return {'ms_name': app_name, 'request_status': 'FAILURE', 'error': {'error_code': error_code, 'error_text': error_text}}\n",
    " \n",
    "    def do_PUT(self):\n",
    "        issue_id = self.path.replace('/','')\n",
    "        data_string = str(self.rfile.read(int(self.headers['Content-Length'])), 'utf-8')\n",
    "        transition = json.loads(data_string)['status']\n",
    "        app_log.info(f'transitioning a jira issue for {issue_id} to {transition}')\n",
    "        \n",
    "        try:\n",
    "            self.jira_issue = app_jira_handle.transition_issue(issue_id, transition=transition)\n",
    "            self.response_msg = self.get_success_response(transition)\n",
    "        except exceptions.JIRAError as e:\n",
    "            app_log.info(e.status_code)\n",
    "            app_log.info(e.text)\n",
    "            self.response_msg = self.get_failure_response(e.status_code, e.text)\n",
    "\n",
    "        self.response()\n",
    "        \n",
    "    def response(self):\n",
    "        self.send_response(200)\n",
    "        self.send_header(\"Content-type\", \"application/json\")\n",
    "        self.end_headers()\n",
    "        self.wfile.write(bytes(json.dumps(self.response_msg),'utf-8'))"
   ]
  },
  {
   "cell_type": "code",
   "execution_count": null,
   "id": "3f6d580b-0c6c-4aac-9d8f-0141234e05ce",
   "metadata": {},
   "outputs": [],
   "source": [
    "app_name = 'ms_jira_update_status'\n",
    "app_jira_handle = None\n",
    "app_default_server_port = 8585\n",
    "app_default_server_name = 'localhost'\n",
    "app_log = utility.get_logger(app_name)\n",
    "app_log.info(f'{app_name} starts ...')\n",
    "\n",
    "if __name__ == \"__main__\":\n",
    "    ## Required fixed parameters as hostname portnumber\n",
    "    app_server_name, app_server_port = utility.get_server_info(app_default_server_name, app_default_server_port)\n",
    "    app_log.info(f'Starting {app_server_name} at port {app_server_port}')\n",
    "    app_jira_handle = utility.ms_init(app_name, app_log)\n",
    "    utility.start_webserver(app_name, app_server_name, app_server_port, app_log, Microservice)"
   ]
  },
  {
   "cell_type": "markdown",
   "id": "5aae3f5c-4018-4083-a2d2-317fd8c9cb66",
   "metadata": {},
   "source": [
    "# NOTE (DON'T DELETE)"
   ]
  },
  {
   "cell_type": "code",
   "execution_count": null,
   "id": "3498870c",
   "metadata": {},
   "outputs": [],
   "source": [
    "issue_key = 'JRM-709'\n",
    "jira_issue = jira_handle.issue(issue_key)\n",
    "print('status:', jira_issue.fields.status.name)\n"
   ]
  },
  {
   "cell_type": "code",
   "execution_count": null,
   "id": "6b8dec63",
   "metadata": {},
   "outputs": [],
   "source": [
    "jira_issue.update(notify=False, description=\"Quiet summary update.\")"
   ]
  },
  {
   "cell_type": "code",
   "execution_count": null,
   "id": "5fa0749f",
   "metadata": {},
   "outputs": [],
   "source": [
    "jira_issue.fields.labels = []\n",
    "jira_issue.fields.labels.append(\"c:/dev/python/bdd/features/google_search.feature\")\n",
    "jira_issue.fields.labels.append(\"c:/dev/python/bdd/features/verify_logging_retention_period.feature\")\n",
    "jira_issue.update(fields={\"labels\": jira_issue.fields.labels})"
   ]
  },
  {
   "cell_type": "code",
   "execution_count": null,
   "id": "5ad6d0da",
   "metadata": {},
   "outputs": [],
   "source": [
    "dir(jira_handle)"
   ]
  },
  {
   "cell_type": "code",
   "execution_count": null,
   "id": "684e7e50",
   "metadata": {},
   "outputs": [],
   "source": [
    "jira_handle.transition_issue(issue_key, transition='Done')"
   ]
  },
  {
   "cell_type": "code",
   "execution_count": null,
   "id": "094b8671",
   "metadata": {},
   "outputs": [],
   "source": []
  }
 ],
 "metadata": {
  "kernelspec": {
   "display_name": "Python 3 (ipykernel)",
   "language": "python",
   "name": "python3"
  },
  "language_info": {
   "codemirror_mode": {
    "name": "ipython",
    "version": 3
   },
   "file_extension": ".py",
   "mimetype": "text/x-python",
   "name": "python",
   "nbconvert_exporter": "python",
   "pygments_lexer": "ipython3",
   "version": "3.11.4"
  }
 },
 "nbformat": 4,
 "nbformat_minor": 5
}
