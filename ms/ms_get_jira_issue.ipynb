{
 "cells": [
  {
   "cell_type": "code",
   "execution_count": null,
   "id": "9f452fdd",
   "metadata": {},
   "outputs": [],
   "source": [
    "from jira import JIRA, exceptions\n",
    "import logging\n",
    "import sys\n",
    "import json\n",
    "from http.server import BaseHTTPRequestHandler, HTTPServer\n",
    "import time"
   ]
  },
  {
   "cell_type": "code",
   "execution_count": null,
   "id": "aeadfa6d",
   "metadata": {},
   "outputs": [],
   "source": [
    "def get_logger(logger_name):    \n",
    "    log = logging.getLogger(logger_name)\n",
    "    log.setLevel(logging.DEBUG)\n",
    "    handler = logging.StreamHandler(sys.stderr)\n",
    "    formatter = logging.Formatter('%(name)s - %(levelname)s - %(message)s')\n",
    "    handler.setFormatter(formatter)\n",
    "    log.handlers = [handler]\n",
    "    return log"
   ]
  },
  {
   "cell_type": "code",
   "execution_count": null,
   "id": "f971c00b",
   "metadata": {},
   "outputs": [],
   "source": [
    "def init_jira_environment(log, jira_url, user_name, user_psw):\n",
    "    jira_options = {'server': jira_url}\n",
    "    log.info(f\"server: {jira_options['server']}\")\n",
    "    jira_handle = JIRA(options=jira_options, basic_auth=(user_name, user_psw))\n",
    "    return jira_handle\n",
    "\n",
    "def get_ms_name():\n",
    "    return 'ms_get_jira_issue'\n",
    "\n",
    "def get_success_response(payload):\n",
    "    return {'ms_name': get_ms_name(), 'request_status': 'SUCCESS', 'payload': payload}\n",
    "\n",
    "def get_failure_response(error):\n",
    "    return {'ms_name': get_ms_name(), 'request_status': 'FAILURE', 'error': error}\n"
   ]
  },
  {
   "cell_type": "code",
   "execution_count": null,
   "id": "56075cfd",
   "metadata": {},
   "outputs": [],
   "source": [
    "class JIRA_Issue(BaseHTTPRequestHandler):\n",
    "    global jira_handle\n",
    "    def do_GET(self):\n",
    "        issue_id = self.path\n",
    "        logger.info(f'getting jira issue for {issue_id}')\n",
    "        \n",
    "        try:\n",
    "            jira_issue = jira_handle.issue(issue_id)                        \n",
    "            response = get_success_response(jira_issue.raw)\n",
    "        except exceptions.JIRAError as e:\n",
    "            logger.info(e.status_code)\n",
    "            logger.info(e.text)\n",
    "            response = get_failure_response(e.status_code)\n",
    "                    \n",
    "        self.send_response(200)\n",
    "        self.send_header(\"Content-type\", \"application/json\")\n",
    "        self.end_headers()\n",
    "        self.wfile.write(bytes(json.dumps(response),'utf-8'))"
   ]
  },
  {
   "cell_type": "code",
   "execution_count": null,
   "id": "a3761f29",
   "metadata": {},
   "outputs": [],
   "source": [
    "def start_webserver(server_name, server_port, log):\n",
    "    webserver = HTTPServer((server_name, server_port), JIRA_Issue)\n",
    "    log.info(\"%s started http://%s:%s\" % (get_ms_name(), server_name, server_port))\n",
    "\n",
    "    try:\n",
    "        webserver.serve_forever()\n",
    "    except KeyboardInterrupt:\n",
    "        print(\"Interrupted by keyboard ...\")\n",
    "\n",
    "def set_up_jira(logger, jira_url, user_name, user_psw):\n",
    "    return init_jira_environment(logger, jira_url, user_name, user_psw)"
   ]
  },
  {
   "cell_type": "code",
   "execution_count": null,
   "id": "6f500114",
   "metadata": {},
   "outputs": [],
   "source": [
    "## Main program"
   ]
  },
  {
   "cell_type": "code",
   "execution_count": null,
   "id": "94076cca",
   "metadata": {},
   "outputs": [],
   "source": [
    "def ms_init():\n",
    "    global logger, jira_handle\n",
    "    logger = get_logger(get_ms_name())\n",
    "    user_name = \"drkiettran@gmail.com\"\n",
    "    user_psw  = \"ATATT3xFfGF0CpUUGjus2XI6C7XkOJM01D0AiuJzJQOwgOjbmfLyRhYecFraMtNHyVqrbfMbKgtHrQ4J6mHFM9CMONhJTbImC5T0lEW7h5SUXD6lBcCkq-jeaZEhrBfiXdmwpeBF82mOcrtUUPcXaiLwj_2RpjFeOpIzcqJNrq5yP7Aq5eoYZ08=89250AFC\"\n",
    "    jira_handle = set_up_jira(logger, 'https://drkiettran.atlassian.net', user_name, user_psw)\n",
    "    print (jira_handle)\n",
    "    \n",
    "if __name__ == \"__main__\":\n",
    "    if len(sys.argv) >= 2 and sys.argv[1].isnumeric():\n",
    "        server_port = int(sys.argv[1])\n",
    "    else:\n",
    "        server_port = 8282\n",
    "    \n",
    "    jira_handle = None\n",
    "    logger = None\n",
    "    ms_init()\n",
    "    start_webserver('localhost', server_port, logger)\n",
    "    webserver.close()\n",
    "    print(\"Server stopped.\")\n",
    "    "
   ]
  },
  {
   "cell_type": "code",
   "execution_count": null,
   "id": "5209be83",
   "metadata": {},
   "outputs": [],
   "source": []
  }
 ],
 "metadata": {
  "kernelspec": {
   "display_name": "Python 3 (ipykernel)",
   "language": "python",
   "name": "python3"
  },
  "language_info": {
   "codemirror_mode": {
    "name": "ipython",
    "version": 3
   },
   "file_extension": ".py",
   "mimetype": "text/x-python",
   "name": "python",
   "nbconvert_exporter": "python",
   "pygments_lexer": "ipython3",
   "version": "3.10.11"
  }
 },
 "nbformat": 4,
 "nbformat_minor": 5
}
