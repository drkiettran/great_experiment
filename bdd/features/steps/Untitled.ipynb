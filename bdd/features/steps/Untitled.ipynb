{
 "cells": [
  {
   "cell_type": "markdown",
   "id": "c2848aff",
   "metadata": {},
   "source": [
    "# bdd test notebook\n"
   ]
  },
  {
   "cell_type": "code",
   "execution_count": 1,
   "id": "477fafb4",
   "metadata": {},
   "outputs": [],
   "source": [
    "from selenium import webdriver\n",
    "from selenium.webdriver.chrome.options import Options\n",
    "from selenium.webdriver.common.by import By\n",
    "from selenium.webdriver.common.keys import Keys"
   ]
  },
  {
   "cell_type": "markdown",
   "id": "7deff221",
   "metadata": {},
   "source": [
    "# def class Google_Search:\n",
    "    def __init__(self, webdriver):\n",
    "        "
   ]
  },
  {
   "cell_type": "code",
   "execution_count": 2,
   "id": "c1f5a594",
   "metadata": {},
   "outputs": [],
   "source": [
    "SEARCH_TEXT_BOX_XPATH = \"//textarea[@name='q']\"\n",
    "GOOGLE_SEARCH_BUTTON_XPATH = \"//input[@value='Google Search']\"\n",
    "RESULT_H3_XPATH = \"//div[@id='rso']//h3\"\n",
    "DEMO_WAIT_TIME_IN_SECS = 3\n",
    "GOOGLE_URL = \"https://google.com\""
   ]
  },
  {
   "cell_type": "code",
   "execution_count": 5,
   "id": "0d5f9260",
   "metadata": {},
   "outputs": [
    {
     "name": "stderr",
     "output_type": "stream",
     "text": [
      "C:\\Users\\ktran\\AppData\\Local\\Temp\\ipykernel_33172\\1127292256.py:1: DeprecationWarning: executable_path has been deprecated, please pass in a Service object\n",
      "  driver = webdriver.Chrome(executable_path='c:/dev/bin/chromedriver.exe')\n"
     ]
    }
   ],
   "source": [
    "driver = webdriver.Chrome(executable_path='c:/dev/bin/chromedriver.exe')\n",
    "driver.get(GOOGLE_URL)"
   ]
  },
  {
   "cell_type": "code",
   "execution_count": null,
   "id": "702e8a06",
   "metadata": {},
   "outputs": [],
   "source": [
    "\n"
   ]
  },
  {
   "cell_type": "code",
   "execution_count": 6,
   "id": "441f227a",
   "metadata": {},
   "outputs": [],
   "source": [
    "def I_visit_the_website(driver, website_url):\n",
    "    print(f'\\t** I opens the website @ \"{website_url}\"')\n",
    "    driver.get(website_url)\n",
    "    "
   ]
  },
  {
   "cell_type": "code",
   "execution_count": 7,
   "id": "6f657232",
   "metadata": {},
   "outputs": [
    {
     "name": "stdout",
     "output_type": "stream",
     "text": [
      "\t** I opens the website @ \"https://google.com\"\n"
     ]
    }
   ],
   "source": [
    "I_visit_the_website(driver, GOOGLE_URL)"
   ]
  },
  {
   "cell_type": "code",
   "execution_count": 12,
   "id": "991ba5f1",
   "metadata": {},
   "outputs": [],
   "source": [
    "search_elements = driver.find_elements(By.XPATH, SEARCH_TEXT_BOX_XPATH)"
   ]
  },
  {
   "cell_type": "code",
   "execution_count": 19,
   "id": "dabc5082",
   "metadata": {},
   "outputs": [],
   "source": [
    "search_elements[0].click()\n",
    "search_elements[0].send_keys('Selenium Web Driver')\n",
    "search_elements[0].send_keys(Keys.ENTER)"
   ]
  },
  {
   "cell_type": "code",
   "execution_count": 16,
   "id": "65d600f8",
   "metadata": {},
   "outputs": [
    {
     "data": {
      "text/plain": [
       "['__abstractmethods__',\n",
       " '__class__',\n",
       " '__delattr__',\n",
       " '__dict__',\n",
       " '__dir__',\n",
       " '__doc__',\n",
       " '__eq__',\n",
       " '__format__',\n",
       " '__ge__',\n",
       " '__getattribute__',\n",
       " '__gt__',\n",
       " '__hash__',\n",
       " '__init__',\n",
       " '__init_subclass__',\n",
       " '__le__',\n",
       " '__lt__',\n",
       " '__module__',\n",
       " '__ne__',\n",
       " '__new__',\n",
       " '__reduce__',\n",
       " '__reduce_ex__',\n",
       " '__repr__',\n",
       " '__setattr__',\n",
       " '__sizeof__',\n",
       " '__str__',\n",
       " '__subclasshook__',\n",
       " '__weakref__',\n",
       " '_abc_impl',\n",
       " '_execute',\n",
       " '_id',\n",
       " '_parent',\n",
       " '_upload',\n",
       " 'accessible_name',\n",
       " 'aria_role',\n",
       " 'clear',\n",
       " 'click',\n",
       " 'find_element',\n",
       " 'find_element_by_class_name',\n",
       " 'find_element_by_css_selector',\n",
       " 'find_element_by_id',\n",
       " 'find_element_by_link_text',\n",
       " 'find_element_by_name',\n",
       " 'find_element_by_partial_link_text',\n",
       " 'find_element_by_tag_name',\n",
       " 'find_element_by_xpath',\n",
       " 'find_elements',\n",
       " 'find_elements_by_class_name',\n",
       " 'find_elements_by_css_selector',\n",
       " 'find_elements_by_id',\n",
       " 'find_elements_by_link_text',\n",
       " 'find_elements_by_name',\n",
       " 'find_elements_by_partial_link_text',\n",
       " 'find_elements_by_tag_name',\n",
       " 'find_elements_by_xpath',\n",
       " 'get_attribute',\n",
       " 'get_dom_attribute',\n",
       " 'get_property',\n",
       " 'id',\n",
       " 'is_displayed',\n",
       " 'is_enabled',\n",
       " 'is_selected',\n",
       " 'location',\n",
       " 'location_once_scrolled_into_view',\n",
       " 'parent',\n",
       " 'rect',\n",
       " 'screenshot',\n",
       " 'screenshot_as_base64',\n",
       " 'screenshot_as_png',\n",
       " 'send_keys',\n",
       " 'shadow_root',\n",
       " 'size',\n",
       " 'submit',\n",
       " 'tag_name',\n",
       " 'text',\n",
       " 'value_of_css_property']"
      ]
     },
     "execution_count": 16,
     "metadata": {},
     "output_type": "execute_result"
    }
   ],
   "source": [
    "dir(search_elements[0])"
   ]
  },
  {
   "cell_type": "code",
   "execution_count": 20,
   "id": "fcefafbe",
   "metadata": {},
   "outputs": [],
   "source": [
    "wes = driver.find_elements(By.XPATH, RESULT_H3_XPATH)"
   ]
  },
  {
   "cell_type": "code",
   "execution_count": 21,
   "id": "1b5e3606",
   "metadata": {},
   "outputs": [
    {
     "data": {
      "text/plain": [
       "13"
      ]
     },
     "execution_count": 21,
     "metadata": {},
     "output_type": "execute_result"
    }
   ],
   "source": [
    "len(wes)"
   ]
  },
  {
   "cell_type": "code",
   "execution_count": 22,
   "id": "e90ec7e6",
   "metadata": {},
   "outputs": [],
   "source": [
    "driver.close()"
   ]
  },
  {
   "cell_type": "code",
   "execution_count": null,
   "id": "03a3da23",
   "metadata": {},
   "outputs": [],
   "source": []
  }
 ],
 "metadata": {
  "kernelspec": {
   "display_name": "Python 3 (ipykernel)",
   "language": "python",
   "name": "python3"
  },
  "language_info": {
   "codemirror_mode": {
    "name": "ipython",
    "version": 3
   },
   "file_extension": ".py",
   "mimetype": "text/x-python",
   "name": "python",
   "nbconvert_exporter": "python",
   "pygments_lexer": "ipython3",
   "version": "3.10.11"
  },
  "varInspector": {
   "cols": {
    "lenName": 16,
    "lenType": 16,
    "lenVar": 40
   },
   "kernels_config": {
    "python": {
     "delete_cmd_postfix": "",
     "delete_cmd_prefix": "del ",
     "library": "var_list.py",
     "varRefreshCmd": "print(var_dic_list())"
    },
    "r": {
     "delete_cmd_postfix": ") ",
     "delete_cmd_prefix": "rm(",
     "library": "var_list.r",
     "varRefreshCmd": "cat(var_dic_list()) "
    }
   },
   "types_to_exclude": [
    "module",
    "function",
    "builtin_function_or_method",
    "instance",
    "_Feature"
   ],
   "window_display": false
  }
 },
 "nbformat": 4,
 "nbformat_minor": 5
}
