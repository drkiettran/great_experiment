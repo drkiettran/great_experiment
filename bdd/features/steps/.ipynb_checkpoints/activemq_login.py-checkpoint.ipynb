{
 "cells": [
  {
   "cell_type": "code",
   "execution_count": null,
   "id": "521c0961",
   "metadata": {},
   "outputs": [],
   "source": [
    "# file:features/steps/google_search.py\n",
    "# ----------------------------------------------------------------------------\n",
    "# STEPS:\n",
    "# ----------------------------------------------------------------------------\n",
    "from behave   import given, when, then\n",
    "from hamcrest import assert_that, equal_to, greater_than\n",
    "from selenium import webdriver\n",
    "from selenium.webdriver.chrome.options import Options\n",
    "from selenium.webdriver.common.by import By\n",
    "import logging\n",
    "import time"
   ]
  },
  {
   "cell_type": "code",
   "execution_count": null,
   "id": "03e089be",
   "metadata": {},
   "outputs": [],
   "source": [
    "def demo():\n",
    "    time.sleep(DEMO_WAIT_TIME_IN_SECS)\n",
    "    \n",
    "@given(u'I am an ActiveMQ web console:')\n",
    "def step_impl(context):\n",
    "    print(f'\\t** I opens the website @ \"{website_url}\"')\n",
    "    context.driver.get(website_url)\n",
    "    demo()\n",
    "\n",
    "\n",
    "@when(u'I login using user \"admin\" and password \"admin\"')\n",
    "def step_impl(context):\n",
    "    raise NotImplementedError(u'STEP: When I login using user \"admin\" and password \"admin\"')\n",
    "\n",
    "\n",
    "@then(u'I should be on the main website')\n",
    "def step_impl(context):\n",
    "    raise NotImplementedError(u'STEP: Then I should be on the main website')"
   ]
  }
 ],
 "metadata": {
  "kernelspec": {
   "display_name": "Python 3 (ipykernel)",
   "language": "python",
   "name": "python3"
  },
  "language_info": {
   "codemirror_mode": {
    "name": "ipython",
    "version": 3
   },
   "file_extension": ".py",
   "mimetype": "text/x-python",
   "name": "python",
   "nbconvert_exporter": "python",
   "pygments_lexer": "ipython3",
   "version": "3.10.11"
  }
 },
 "nbformat": 4,
 "nbformat_minor": 5
}
