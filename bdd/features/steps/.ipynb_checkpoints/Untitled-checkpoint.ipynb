{
 "cells": [
  {
   "cell_type": "markdown",
   "id": "c2848aff",
   "metadata": {},
   "source": [
    "# bdd test notebook\n"
   ]
  },
  {
   "cell_type": "code",
   "execution_count": 1,
   "id": "477fafb4",
   "metadata": {},
   "outputs": [],
   "source": [
    "from selenium import webdriver\n",
    "from selenium.webdriver.chrome.options import Options\n",
    "from selenium.webdriver.common.by import By"
   ]
  },
  {
   "cell_type": "markdown",
   "id": "7deff221",
   "metadata": {},
   "source": [
    "# def class Google_Search:\n",
    "    def __init__(self, webdriver):\n",
    "        "
   ]
  },
  {
   "cell_type": "code",
   "execution_count": 2,
   "id": "ad682372",
   "metadata": {},
   "outputs": [],
   "source": [
    "SEARCH_TEXT_BOX_XPATH = \"//input[@name='q']\"\n",
    "GOOGLE_SEARCH_BUTTON_XPATH = \"//input[@value='Google Search']\"\n",
    "RESULT_H3_XPATH = \"//div[@id='rso']//h3\"\n",
    "DEMO_WAIT_TIME_IN_SECS = 3\n",
    "GOOGLE_URL = \"https://google.com\""
   ]
  },
  {
   "cell_type": "code",
   "execution_count": 5,
   "id": "e228f366",
   "metadata": {},
   "outputs": [
    {
     "name": "stderr",
     "output_type": "stream",
     "text": [
      "C:\\Users\\ktran\\AppData\\Local\\Temp\\ipykernel_33172\\1127292256.py:1: DeprecationWarning: executable_path has been deprecated, please pass in a Service object\n",
      "  driver = webdriver.Chrome(executable_path='c:/dev/bin/chromedriver.exe')\n"
     ]
    }
   ],
   "source": [
    "driver = webdriver.Chrome(executable_path='c:/dev/bin/chromedriver.exe')\n",
    "driver.get(GOOGLE_URL)"
   ]
  },
  {
   "cell_type": "code",
   "execution_count": null,
   "id": "aed07cc0",
   "metadata": {},
   "outputs": [],
   "source": [
    "\n"
   ]
  },
  {
   "cell_type": "code",
   "execution_count": 6,
   "id": "bafc1e30",
   "metadata": {},
   "outputs": [],
   "source": [
    "def I_visit_the_website(driver, website_url):\n",
    "    print(f'\\t** I opens the website @ \"{website_url}\"')\n",
    "    driver.get(website_url)\n",
    "    "
   ]
  },
  {
   "cell_type": "code",
   "execution_count": 7,
   "id": "59ba66d7",
   "metadata": {},
   "outputs": [
    {
     "name": "stdout",
     "output_type": "stream",
     "text": [
      "\t** I opens the website @ \"https://google.com\"\n"
     ]
    }
   ],
   "source": [
    "I_visit_the_website(driver, GOOGLE_URL)"
   ]
  },
  {
   "cell_type": "code",
   "execution_count": 9,
   "id": "9946e07a",
   "metadata": {},
   "outputs": [],
   "source": [
    "search_elements = driver.find_elements(By.XPATH, SEARCH_TEXT_BOX_XPATH)"
   ]
  },
  {
   "cell_type": "code",
   "execution_count": null,
   "id": "3a986794",
   "metadata": {},
   "outputs": [],
   "source": []
  }
 ],
 "metadata": {
  "kernelspec": {
   "display_name": "Python 3 (ipykernel)",
   "language": "python",
   "name": "python3"
  },
  "language_info": {
   "codemirror_mode": {
    "name": "ipython",
    "version": 3
   },
   "file_extension": ".py",
   "mimetype": "text/x-python",
   "name": "python",
   "nbconvert_exporter": "python",
   "pygments_lexer": "ipython3",
   "version": "3.10.11"
  },
  "varInspector": {
   "cols": {
    "lenName": 16,
    "lenType": 16,
    "lenVar": 40
   },
   "kernels_config": {
    "python": {
     "delete_cmd_postfix": "",
     "delete_cmd_prefix": "del ",
     "library": "var_list.py",
     "varRefreshCmd": "print(var_dic_list())"
    },
    "r": {
     "delete_cmd_postfix": ") ",
     "delete_cmd_prefix": "rm(",
     "library": "var_list.r",
     "varRefreshCmd": "cat(var_dic_list()) "
    }
   },
   "types_to_exclude": [
    "module",
    "function",
    "builtin_function_or_method",
    "instance",
    "_Feature"
   ],
   "window_display": false
  }
 },
 "nbformat": 4,
 "nbformat_minor": 5
}
